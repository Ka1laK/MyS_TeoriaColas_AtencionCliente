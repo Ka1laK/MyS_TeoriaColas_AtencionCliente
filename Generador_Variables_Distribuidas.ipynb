{
 "cells": [
  {
   "cell_type": "code",
   "execution_count": null,
   "id": "0ab95e67",
   "metadata": {},
   "outputs": [],
   "source": []
  },
  {
   "cell_type": "markdown",
   "id": "b1a473e5",
   "metadata": {},
   "source": [
    "### Librerias"
   ]
  },
  {
   "cell_type": "code",
   "execution_count": 1,
   "id": "b1462ae9",
   "metadata": {},
   "outputs": [],
   "source": [
    "import pandas as pd\n",
    "import numpy as np\n"
   ]
  },
  {
   "cell_type": "markdown",
   "id": "c24e8652",
   "metadata": {},
   "source": [
    "### Generdor de PseudoAleatorios"
   ]
  },
  {
   "cell_type": "code",
   "execution_count": 2,
   "id": "c90ed1e7",
   "metadata": {},
   "outputs": [],
   "source": [
    "class GeneradorPseudoAleatorio:\n",
    "    def __init__(self, seed, multip, mod):\n",
    "        self.seed = seed\n",
    "        self.multip = multip\n",
    "        self.mod = mod\n",
    "        self.periodo = -1\n",
    "\n",
    "    def siguiente(self):\n",
    "        self.seed = (self.multip * self.seed) % self.mod\n",
    "        return self.seed / self.mod\n",
    "\n",
    "    def obtener_periodo(self):\n",
    "        if self.periodo != -1:\n",
    "            return self.periodo\n",
    "        periodo = 0\n",
    "        numeros = set()\n",
    "        while True:\n",
    "            aleatorio = self.siguiente()\n",
    "            if aleatorio in numeros:\n",
    "                break\n",
    "            periodo += 1\n",
    "            numeros.add(aleatorio)\n",
    "        self.periodo = periodo\n",
    "        return periodo\n"
   ]
  },
  {
   "cell_type": "code",
   "execution_count": 3,
   "id": "58864800",
   "metadata": {},
   "outputs": [],
   "source": [
    "seed = 134339\n",
    "multip = 6259309\n",
    "mod = 1073741821\n",
    "generador = GeneradorPseudoAleatorio(seed, multip, mod)\n",
    "randoms = [generador.siguiente() for _ in range(10000)]\n",
    "df = pd.DataFrame(randoms, columns=['Nros PseudoAleatorios'])"
   ]
  },
  {
   "cell_type": "markdown",
   "id": "618a4c63",
   "metadata": {},
   "source": [
    "### Generador de Distribucciones"
   ]
  },
  {
   "cell_type": "markdown",
   "id": "ebad1199",
   "metadata": {},
   "source": [
    "Parametros"
   ]
  },
  {
   "cell_type": "markdown",
   "id": "ed0967fb",
   "metadata": {},
   "source": [
    "Exponencial ===> lambda = 113"
   ]
  },
  {
   "cell_type": "markdown",
   "id": "d1bd1084",
   "metadata": {},
   "source": [
    "Uniforme ===> min = 0  y max = 752"
   ]
  },
  {
   "cell_type": "markdown",
   "id": "894b4fd1",
   "metadata": {},
   "source": [
    "Triangular ===> a = 3, b = 7.05 y c = 15"
   ]
  },
  {
   "cell_type": "code",
   "execution_count": 4,
   "id": "7c21b90f",
   "metadata": {},
   "outputs": [],
   "source": [
    "df['Tiempo Interllegada'] = np.random.exponential(scale=1/113, size=len(df))\n",
    "df['Tiempo de Espera'] = np.random.uniform(low=0, high=752, size=len(df))\n",
    "df['Tiempo de Atencion'] = np.random.triangular(left=3, mode=7.05, right=15, size=len(df))"
   ]
  },
  {
   "cell_type": "code",
   "execution_count": 5,
   "id": "2a8e9b96",
   "metadata": {},
   "outputs": [
    {
     "data": {
      "text/html": [
       "<div>\n",
       "<style scoped>\n",
       "    .dataframe tbody tr th:only-of-type {\n",
       "        vertical-align: middle;\n",
       "    }\n",
       "\n",
       "    .dataframe tbody tr th {\n",
       "        vertical-align: top;\n",
       "    }\n",
       "\n",
       "    .dataframe thead th {\n",
       "        text-align: right;\n",
       "    }\n",
       "</style>\n",
       "<table border=\"1\" class=\"dataframe\">\n",
       "  <thead>\n",
       "    <tr style=\"text-align: right;\">\n",
       "      <th></th>\n",
       "      <th>Nros PseudoAleatorios</th>\n",
       "      <th>Tiempo Interllegada</th>\n",
       "      <th>Tiempo de Espera</th>\n",
       "      <th>Tiempo de Atencion</th>\n",
       "    </tr>\n",
       "  </thead>\n",
       "  <tbody>\n",
       "    <tr>\n",
       "      <th>0</th>\n",
       "      <td>0.120575</td>\n",
       "      <td>0.015976</td>\n",
       "      <td>356.212657</td>\n",
       "      <td>5.170024</td>\n",
       "    </tr>\n",
       "    <tr>\n",
       "      <th>1</th>\n",
       "      <td>0.197613</td>\n",
       "      <td>0.037146</td>\n",
       "      <td>645.244165</td>\n",
       "      <td>10.514335</td>\n",
       "    </tr>\n",
       "    <tr>\n",
       "      <th>2</th>\n",
       "      <td>0.993049</td>\n",
       "      <td>0.001567</td>\n",
       "      <td>657.370102</td>\n",
       "      <td>8.497734</td>\n",
       "    </tr>\n",
       "    <tr>\n",
       "      <th>3</th>\n",
       "      <td>0.088101</td>\n",
       "      <td>0.009673</td>\n",
       "      <td>286.204624</td>\n",
       "      <td>8.916239</td>\n",
       "    </tr>\n",
       "    <tr>\n",
       "      <th>4</th>\n",
       "      <td>0.337738</td>\n",
       "      <td>0.003543</td>\n",
       "      <td>121.118424</td>\n",
       "      <td>8.053329</td>\n",
       "    </tr>\n",
       "    <tr>\n",
       "      <th>...</th>\n",
       "      <td>...</td>\n",
       "      <td>...</td>\n",
       "      <td>...</td>\n",
       "      <td>...</td>\n",
       "    </tr>\n",
       "    <tr>\n",
       "      <th>9995</th>\n",
       "      <td>0.536609</td>\n",
       "      <td>0.009217</td>\n",
       "      <td>4.546002</td>\n",
       "      <td>9.432679</td>\n",
       "    </tr>\n",
       "    <tr>\n",
       "      <th>9996</th>\n",
       "      <td>0.126641</td>\n",
       "      <td>0.018544</td>\n",
       "      <td>526.753255</td>\n",
       "      <td>7.503758</td>\n",
       "    </tr>\n",
       "    <tr>\n",
       "      <th>9997</th>\n",
       "      <td>0.841878</td>\n",
       "      <td>0.009095</td>\n",
       "      <td>183.922311</td>\n",
       "      <td>7.580913</td>\n",
       "    </tr>\n",
       "    <tr>\n",
       "      <th>9998</th>\n",
       "      <td>0.546752</td>\n",
       "      <td>0.022714</td>\n",
       "      <td>265.730777</td>\n",
       "      <td>7.370559</td>\n",
       "    </tr>\n",
       "    <tr>\n",
       "      <th>9999</th>\n",
       "      <td>0.089946</td>\n",
       "      <td>0.016434</td>\n",
       "      <td>645.613845</td>\n",
       "      <td>9.939070</td>\n",
       "    </tr>\n",
       "  </tbody>\n",
       "</table>\n",
       "<p>10000 rows × 4 columns</p>\n",
       "</div>"
      ],
      "text/plain": [
       "      Nros PseudoAleatorios  Tiempo Interllegada  Tiempo de Espera  \\\n",
       "0                  0.120575             0.015976        356.212657   \n",
       "1                  0.197613             0.037146        645.244165   \n",
       "2                  0.993049             0.001567        657.370102   \n",
       "3                  0.088101             0.009673        286.204624   \n",
       "4                  0.337738             0.003543        121.118424   \n",
       "...                     ...                  ...               ...   \n",
       "9995               0.536609             0.009217          4.546002   \n",
       "9996               0.126641             0.018544        526.753255   \n",
       "9997               0.841878             0.009095        183.922311   \n",
       "9998               0.546752             0.022714        265.730777   \n",
       "9999               0.089946             0.016434        645.613845   \n",
       "\n",
       "      Tiempo de Atencion  \n",
       "0               5.170024  \n",
       "1              10.514335  \n",
       "2               8.497734  \n",
       "3               8.916239  \n",
       "4               8.053329  \n",
       "...                  ...  \n",
       "9995            9.432679  \n",
       "9996            7.503758  \n",
       "9997            7.580913  \n",
       "9998            7.370559  \n",
       "9999            9.939070  \n",
       "\n",
       "[10000 rows x 4 columns]"
      ]
     },
     "execution_count": 5,
     "metadata": {},
     "output_type": "execute_result"
    }
   ],
   "source": [
    "df"
   ]
  },
  {
   "cell_type": "code",
   "execution_count": 6,
   "id": "06a2dd0d",
   "metadata": {},
   "outputs": [],
   "source": [
    "df.to_excel('variables_distribuidas.xlsx', index=False)"
   ]
  }
 ],
 "metadata": {
  "kernelspec": {
   "display_name": "Python 3",
   "language": "python",
   "name": "python3"
  },
  "language_info": {
   "codemirror_mode": {
    "name": "ipython",
    "version": 3
   },
   "file_extension": ".py",
   "mimetype": "text/x-python",
   "name": "python",
   "nbconvert_exporter": "python",
   "pygments_lexer": "ipython3",
   "version": "3.11.9"
  }
 },
 "nbformat": 4,
 "nbformat_minor": 5
}
